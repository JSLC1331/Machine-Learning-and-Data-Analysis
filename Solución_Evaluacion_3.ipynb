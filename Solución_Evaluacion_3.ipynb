{
  "nbformat": 4,
  "nbformat_minor": 0,
  "metadata": {
    "colab": {
      "name": "Solución_Evaluacion_3.ipynb",
      "provenance": [],
      "collapsed_sections": [
        "2CKsX9Tb2s2C",
        "e6h_rQQxgdaG",
        "Yt2tVWsfgGBd",
        "RALpf8u9jNaK",
        "_2vmObFzjQal",
        "aJsIJdKtgJRh",
        "_aHZjtmwwI6u",
        "wcY9OWHQwL_k",
        "znCrSgamgN1x",
        "dNGHbq1IQAPa",
        "MX5cHKvmQHHC",
        "BvKO1clZYH-P",
        "V_-CfiGJbF66",
        "LQ_8mqpvbRKp",
        "00RSaidfgTAH",
        "cWdxJjihMjsV",
        "pMHdwXMFbYjx",
        "QoqgP3mjM1xF",
        "TOP_JGBvltDw",
        "Kg8dnvDzlvEL"
      ],
      "include_colab_link": true
    },
    "kernelspec": {
      "name": "python3",
      "display_name": "Python 3"
    },
    "language_info": {
      "name": "python"
    }
  },
  "cells": [
    {
      "cell_type": "markdown",
      "metadata": {
        "id": "view-in-github",
        "colab_type": "text"
      },
      "source": [
        "<a href=\"https://colab.research.google.com/github/JSLC1331/Machine-Learning-and-Data-Analysis/blob/main/Soluci%C3%B3n_Evaluacion_3.ipynb\" target=\"_parent\"><img src=\"https://colab.research.google.com/assets/colab-badge.svg\" alt=\"Open In Colab\"/></a>"
      ]
    },
    {
      "cell_type": "markdown",
      "source": [
        "**Nombre del estudiante:** Jhon Sebastián Londoño Cárdenas.<br />\n",
        "**Asignatura:** Aprendizaje Automático y Análisis de Datos.<br />\n",
        "Tercer Parcial."
      ],
      "metadata": {
        "id": "22nF0L-Pqk22"
      }
    },
    {
      "cell_type": "markdown",
      "source": [
        "# Exercise 1\n"
      ],
      "metadata": {
        "id": "4KBL8iQ_4A1V"
      }
    },
    {
      "cell_type": "markdown",
      "source": [
        "## Mnist dataset"
      ],
      "metadata": {
        "id": "2CKsX9Tb2s2C"
      }
    },
    {
      "cell_type": "markdown",
      "source": [
        "\n",
        "MNIST is a dataset, which is a set of 70,000 small\n",
        "images of digits handwritten by high school students and employees of the US Census\n",
        "Bureau. Each image is labeled with the digit it represents. This set has been studied\n",
        "so much that it is often called the “hello world” of Machine Learning: whenever\n",
        "people come up with a new classification algorithm they are curious to see how it will\n",
        "perform on MNIST, and anyone who learns Machine Learning tackles this dataset\n",
        "sooner or later."
      ],
      "metadata": {
        "id": "4T9K_yxS28yK"
      }
    },
    {
      "cell_type": "markdown",
      "source": [
        "Scikit-Learn provides many helper functions to download popular datasets. MNIST is\n",
        "one of them. The following code fetches the MNIST dataset:"
      ],
      "metadata": {
        "id": "-7Bt-fG_3AG5"
      }
    },
    {
      "cell_type": "code",
      "source": [
        "#Load dataset\n",
        "import matplotlib.pyplot as plt\n",
        "from sklearn.datasets import load_digits\n",
        "\n",
        "mnist = load_digits()\n",
        "mnist.keys()"
      ],
      "metadata": {
        "colab": {
          "base_uri": "https://localhost:8080/"
        },
        "id": "wfdhNMDh2uxB",
        "outputId": "85e59e21-cf4d-46fb-ce5f-8103531f76ac"
      },
      "execution_count": null,
      "outputs": [
        {
          "output_type": "execute_result",
          "data": {
            "text/plain": [
              "dict_keys(['data', 'target', 'frame', 'feature_names', 'target_names', 'images', 'DESCR'])"
            ]
          },
          "metadata": {},
          "execution_count": 243
        }
      ]
    },
    {
      "cell_type": "code",
      "source": [
        "#Select X, y \n",
        "X, y = mnist[\"data\"], mnist[\"target\"]\n",
        "X.shape"
      ],
      "metadata": {
        "colab": {
          "base_uri": "https://localhost:8080/"
        },
        "id": "iBaZmPrh3Ere",
        "outputId": "1c0cddc3-1223-4be6-fc56-b4baf1f4cca4"
      },
      "execution_count": null,
      "outputs": [
        {
          "output_type": "execute_result",
          "data": {
            "text/plain": [
              "(1797, 64)"
            ]
          },
          "metadata": {},
          "execution_count": 244
        }
      ]
    },
    {
      "cell_type": "code",
      "source": [
        "#Select a digit\n",
        "some_digit = X[0]\n",
        "some_digit_image = some_digit.reshape(8, 8)"
      ],
      "metadata": {
        "id": "pTLp5_DR3Za5"
      },
      "execution_count": null,
      "outputs": []
    },
    {
      "cell_type": "code",
      "source": [
        "#Digit resolution\n",
        "some_digit.reshape(8, 8)"
      ],
      "metadata": {
        "colab": {
          "base_uri": "https://localhost:8080/"
        },
        "id": "GAgVteC647up",
        "outputId": "c4abf73c-8575-440b-8e6b-f31f46a21277"
      },
      "execution_count": null,
      "outputs": [
        {
          "output_type": "execute_result",
          "data": {
            "text/plain": [
              "array([[ 0.,  0.,  5., 13.,  9.,  1.,  0.,  0.],\n",
              "       [ 0.,  0., 13., 15., 10., 15.,  5.,  0.],\n",
              "       [ 0.,  3., 15.,  2.,  0., 11.,  8.,  0.],\n",
              "       [ 0.,  4., 12.,  0.,  0.,  8.,  8.,  0.],\n",
              "       [ 0.,  5.,  8.,  0.,  0.,  9.,  8.,  0.],\n",
              "       [ 0.,  4., 11.,  0.,  1., 12.,  7.,  0.],\n",
              "       [ 0.,  2., 14.,  5., 10., 12.,  0.,  0.],\n",
              "       [ 0.,  0.,  6., 13., 10.,  0.,  0.,  0.]])"
            ]
          },
          "metadata": {},
          "execution_count": 246
        }
      ]
    },
    {
      "cell_type": "code",
      "source": [
        "#Plot a digit\n",
        "plt.imshow(some_digit_image, cmap=\"binary\")\n",
        "plt.axis(\"off\")\n",
        "plt.show()"
      ],
      "metadata": {
        "colab": {
          "base_uri": "https://localhost:8080/",
          "height": 248
        },
        "id": "TtcozCNX3s-N",
        "outputId": "fe79dd2f-9d42-4eb3-9c18-604c5cb6ec09"
      },
      "execution_count": null,
      "outputs": [
        {
          "output_type": "display_data",
          "data": {
            "text/plain": [
              "<Figure size 432x288 with 1 Axes>"
            ],
            "image/png": "[encoded data removed]"
          },
          "metadata": {
            "needs_background": "light"
          }
        }
      ]
    },
    {
      "cell_type": "markdown",
      "source": [
        "### Tasks"
      ],
      "metadata": {
        "id": "kGP63sqwNJ0Q"
      }
    },
    {
      "cell_type": "markdown",
      "source": [
        "1: Explore Mnist dataset\n",
        "\n",
        "2: Train SVM model that can solve the multiclass-clasification taks. Use a validation curve to finde the value of C that porduces the maximum accuracy\n",
        "\n",
        "3: Train Desicion Tree model that can solve the multiclass-clasification taks. Use a validation curve to finde the value of C that porduces the maximum accuracy\n",
        "\n",
        "4: Train Random Forest model that can solve the MNIST multiclass-clasification taks. Use a validation curve to finde the value of max_depth that porduces the maximum accuracy\n",
        "\n",
        "5: Train a Aritifical Neural Network that can solve the MNIST  multiclass-clasification taks."
      ],
      "metadata": {
        "id": "gnmLdDZANK3c"
      }
    },
    {
      "cell_type": "code",
      "source": [
        "from sklearn.model_selection import validation_curve\n",
        "import numpy as np\n",
        "#Import classification_report\n",
        "from sklearn.metrics import classification_report\n",
        "from sklearn.model_selection import train_test_split\n",
        "#Import accuracy score from sklearn\n",
        "from sklearn.metrics import accuracy_score\n",
        "import seaborn as sns\n",
        "from sklearn.model_selection import GridSearchCV"
      ],
      "metadata": {
        "id": "5eRDO9Am6qWj"
      },
      "execution_count": null,
      "outputs": []
    },
    {
      "cell_type": "markdown",
      "source": [
        "## Task 1: Explorando el dataset"
      ],
      "metadata": {
        "id": "e6h_rQQxgdaG"
      }
    },
    {
      "cell_type": "markdown",
      "source": [
        "### En qué consiste el dataset\n",
        "\n",
        "En resumidas cuentas, el corpus con el que estamos trabajando está conformado por imágenes en baja resolución de los números del 0 al 9. Algunos ejemplos de las matrices y las imágenes generadas fueron mostrados en el enunciado, por lo que no parece tan necesario volver a mostrarlas en este apartado."
      ],
      "metadata": {
        "id": "Yar2Q5z2J34Z"
      }
    },
    {
      "cell_type": "markdown",
      "source": [
        "### Objetivo\n",
        "Lo que se quiere hacer es construir una serie de modelos de machine learning y deep learning, encontrando los mejores parámetros, los cuales permitan resolver el problema de clasificación con la máxima accuracy posible. El problema de clasificación consiste en determinar correctamente a qué número corresponde la imagen del dataset (entre el cero y el nueve)."
      ],
      "metadata": {
        "id": "MaIQDX7pMvKl"
      }
    },
    {
      "cell_type": "markdown",
      "source": [
        "### Revisión de la variable objetivo\n",
        "\n",
        "Analizando un poco la variable objetivo nos damos cuenta que consta de 10 clases en total, las cuales son los números que van del 0 al 9, ya que esto es lo que tenemos que identificar en las imágenes. Algo importante a destacar es que las clases están balanceadas, es decir, no se presentan grandes diferencias en las frecuencias de estas, lo cual es una buena señal, ya que esto podría llegar a afectar el desempeño de los modelos. Como un ejemplo se toma un dataset con el que se trabajó en la clase de Sistemas Inteligentes, en el cual la frecuencia de una de las clases representaba casi el triple de la otra, por lo tanto los modelos no obtenian buenos resultados en métricas como el accuracy."
      ],
      "metadata": {
        "id": "oA8v-7J3O8Up"
      }
    },
    {
      "cell_type": "code",
      "source": [
        "plt.figure(figsize=(10, 6))\n",
        "sns.countplot(y)"
      ],
      "metadata": {
        "colab": {
          "base_uri": "https://localhost:8080/",
          "height": 446
        },
        "id": "elcKnS6pBLcL",
        "outputId": "30d05235-e71a-4137-a409-3122ff44ed4a"
      },
      "execution_count": null,
      "outputs": [
        {
          "output_type": "stream",
          "name": "stderr",
          "text": [
            "/usr/local/lib/python3.7/dist-packages/seaborn/_decorators.py:43: FutureWarning: Pass the following variable as a keyword arg: x. From version 0.12, the only valid positional argument will be `data`, and passing other arguments without an explicit keyword will result in an error or misinterpretation.\n",
            "  FutureWarning\n"
          ]
        },
        {
          "output_type": "execute_result",
          "data": {
            "text/plain": [
              "<matplotlib.axes._subplots.AxesSubplot at 0x7f512579a410>"
            ]
          },
          "metadata": {},
          "execution_count": 259
        },
        {
          "output_type": "display_data",
          "data": {
            "text/plain": [
              "<Figure size 720x432 with 1 Axes>"
            ],
            "image/png": "[encoded data removed]"
          },
          "metadata": {
            "needs_background": "light"
          }
        }
      ]
    },
    {
      "cell_type": "markdown",
      "source": [
        "### Preprocesamiento\n",
        "\n",
        "Debido a la nueva naturaleza de los datos se produjeron varias dudas sobre si se debe realizar preprocesamiento a los datos. Se consultó al respecto y se encontraron métodos no vistos en clase para este tipo de corpus que usan estos datos, no obstante, por cuestiones de tiempo no se usaron, por lo que la información se usó tal cual en los modelos.<br />\n",
        "\n",
        "Respecto al uso de Standard Scaler, se observó que se usa normalmente para datos numéricos que representan características medibles, como la longitud de pétalos, por lo tanto, al tener datos numéricos que representan algo distinto (matrices que representan imágenes) se decidió no utilizarlo. "
      ],
      "metadata": {
        "id": "aUmeBITMQH6n"
      }
    },
    {
      "cell_type": "markdown",
      "source": [
        "## Task 2: SVM"
      ],
      "metadata": {
        "id": "Yt2tVWsfgGBd"
      }
    },
    {
      "cell_type": "markdown",
      "source": [
        "### Encontrando el mejor C"
      ],
      "metadata": {
        "id": "RALpf8u9jNaK"
      }
    },
    {
      "cell_type": "code",
      "source": [
        "from sklearn.svm import SVC\n",
        "\n",
        "svmModel = SVC(C = 2)\n",
        "svmModel.get_params()"
      ],
      "metadata": {
        "colab": {
          "base_uri": "https://localhost:8080/"
        },
        "id": "uXQtg-j0Ov0u",
        "outputId": "5b00bbf3-7783-428b-efda-5f1c65ae9abf"
      },
      "execution_count": null,
      "outputs": [
        {
          "output_type": "execute_result",
          "data": {
            "text/plain": [
              "{'C': 2,\n",
              " 'break_ties': False,\n",
              " 'cache_size': 200,\n",
              " 'class_weight': None,\n",
              " 'coef0': 0.0,\n",
              " 'decision_function_shape': 'ovr',\n",
              " 'degree': 3,\n",
              " 'gamma': 'scale',\n",
              " 'kernel': 'rbf',\n",
              " 'max_iter': -1,\n",
              " 'probability': False,\n",
              " 'random_state': None,\n",
              " 'shrinking': True,\n",
              " 'tol': 0.001,\n",
              " 'verbose': False}"
            ]
          },
          "metadata": {},
          "execution_count": 195
        }
      ]
    },
    {
      "cell_type": "code",
      "source": [
        "cValues = np.arange(0.05, 10, 0.05) # Se crea un arreglo de valores que serán aquellos con los cuales se va a probar el C del modelo de SVM para saber cuál tiene mejor desempeño en cuanto a la métrica de accuracy.\n",
        "cValues"
      ],
      "metadata": {
        "colab": {
          "base_uri": "https://localhost:8080/"
        },
        "id": "HlnmiQYIQT0f",
        "outputId": "582d95fd-6386-4ec2-9a58-c8a177832c3d"
      },
      "execution_count": null,
      "outputs": [
        {
          "output_type": "execute_result",
          "data": {
            "text/plain": [
              "array([0.05, 0.1 , 0.15, 0.2 , 0.25, 0.3 , 0.35, 0.4 , 0.45, 0.5 , 0.55,\n",
              "       0.6 , 0.65, 0.7 , 0.75, 0.8 , 0.85, 0.9 , 0.95, 1.  , 1.05, 1.1 ,\n",
              "       1.15, 1.2 , 1.25, 1.3 , 1.35, 1.4 , 1.45, 1.5 , 1.55, 1.6 , 1.65,\n",
              "       1.7 , 1.75, 1.8 , 1.85, 1.9 , 1.95, 2.  , 2.05, 2.1 , 2.15, 2.2 ,\n",
              "       2.25, 2.3 , 2.35, 2.4 , 2.45, 2.5 , 2.55, 2.6 , 2.65, 2.7 , 2.75,\n",
              "       2.8 , 2.85, 2.9 , 2.95, 3.  , 3.05, 3.1 , 3.15, 3.2 , 3.25, 3.3 ,\n",
              "       3.35, 3.4 , 3.45, 3.5 , 3.55, 3.6 , 3.65, 3.7 , 3.75, 3.8 , 3.85,\n",
              "       3.9 , 3.95, 4.  , 4.05, 4.1 , 4.15, 4.2 , 4.25, 4.3 , 4.35, 4.4 ,\n",
              "       4.45, 4.5 , 4.55, 4.6 , 4.65, 4.7 , 4.75, 4.8 , 4.85, 4.9 , 4.95,\n",
              "       5.  , 5.05, 5.1 , 5.15, 5.2 , 5.25, 5.3 , 5.35, 5.4 , 5.45, 5.5 ,\n",
              "       5.55, 5.6 , 5.65, 5.7 , 5.75, 5.8 , 5.85, 5.9 , 5.95, 6.  , 6.05,\n",
              "       6.1 , 6.15, 6.2 , 6.25, 6.3 , 6.35, 6.4 , 6.45, 6.5 , 6.55, 6.6 ,\n",
              "       6.65, 6.7 , 6.75, 6.8 , 6.85, 6.9 , 6.95, 7.  , 7.05, 7.1 , 7.15,\n",
              "       7.2 , 7.25, 7.3 , 7.35, 7.4 , 7.45, 7.5 , 7.55, 7.6 , 7.65, 7.7 ,\n",
              "       7.75, 7.8 , 7.85, 7.9 , 7.95, 8.  , 8.05, 8.1 , 8.15, 8.2 , 8.25,\n",
              "       8.3 , 8.35, 8.4 , 8.45, 8.5 , 8.55, 8.6 , 8.65, 8.7 , 8.75, 8.8 ,\n",
              "       8.85, 8.9 , 8.95, 9.  , 9.05, 9.1 , 9.15, 9.2 , 9.25, 9.3 , 9.35,\n",
              "       9.4 , 9.45, 9.5 , 9.55, 9.6 , 9.65, 9.7 , 9.75, 9.8 , 9.85, 9.9 ,\n",
              "       9.95])"
            ]
          },
          "metadata": {},
          "execution_count": 196
        }
      ]
    },
    {
      "cell_type": "code",
      "source": [
        "score_train, score_test = validation_curve(svmModel, X, y, param_name ='C', param_range = cValues, cv = 5, scoring ='accuracy')"
      ],
      "metadata": {
        "id": "5daGTyq8SLOl"
      },
      "execution_count": null,
      "outputs": []
    },
    {
      "cell_type": "code",
      "source": [
        "score_test.mean(axis=1) # Se listan los accuracy de los C que se tuvieron en cuenta."
      ],
      "metadata": {
        "colab": {
          "base_uri": "https://localhost:8080/"
        },
        "id": "jlIJ7XjRTPul",
        "outputId": "4ee81693-4d62-41a1-985b-8214e41aa2e6"
      },
      "execution_count": null,
      "outputs": [
        {
          "output_type": "execute_result",
          "data": {
            "text/plain": [
              "array([0.90597493, 0.93156763, 0.94158465, 0.94659084, 0.94992881,\n",
              "       0.95159703, 0.95382544, 0.95549675, 0.95716496, 0.95660786,\n",
              "       0.95883318, 0.95938873, 0.95883473, 0.96050294, 0.96050294,\n",
              "       0.9610585 , 0.9621727 , 0.96272826, 0.96328381, 0.96328381,\n",
              "       0.96272671, 0.96328227, 0.96439492, 0.96439492, 0.96495048,\n",
              "       0.96606314, 0.96662024, 0.9671758 , 0.96662024, 0.96606314,\n",
              "       0.96662024, 0.9671758 , 0.96828846, 0.96884401, 0.96884401,\n",
              "       0.97051377, 0.97051377, 0.97051377, 0.97051377, 0.97051377,\n",
              "       0.97051377, 0.97162798, 0.97218508, 0.97218508, 0.97218508,\n",
              "       0.97218508, 0.97274064, 0.97274064, 0.97274064, 0.97274064,\n",
              "       0.97274064, 0.97274064, 0.97274064, 0.97274064, 0.97274064,\n",
              "       0.97218353, 0.97218353, 0.97274064, 0.97274064, 0.97274064,\n",
              "       0.97274064, 0.97274064, 0.97274064, 0.97274064, 0.97274064,\n",
              "       0.97274064, 0.97274064, 0.97329619, 0.97329619, 0.97329619,\n",
              "       0.97385175, 0.97385175, 0.97385175, 0.97385175, 0.97385175,\n",
              "       0.97385175, 0.97385175, 0.97385175, 0.97385175, 0.97385175,\n",
              "       0.97385175, 0.9744073 , 0.9738502 , 0.9738502 , 0.9738502 ,\n",
              "       0.9738502 , 0.9738502 , 0.9738502 , 0.9738502 , 0.9738502 ,\n",
              "       0.9738502 , 0.9738502 , 0.9738502 , 0.9738502 , 0.9738502 ,\n",
              "       0.9738502 , 0.9738502 , 0.9738502 , 0.9738502 , 0.9738502 ,\n",
              "       0.9738502 , 0.9738502 , 0.9738502 , 0.9738502 , 0.9738502 ,\n",
              "       0.9738502 , 0.9738502 , 0.9738502 , 0.9738502 , 0.9738502 ,\n",
              "       0.9738502 , 0.9738502 , 0.9738502 , 0.9738502 , 0.9738502 ,\n",
              "       0.9738502 , 0.9738502 , 0.9738502 , 0.9738502 , 0.9738502 ,\n",
              "       0.9738502 , 0.9738502 , 0.9738502 , 0.9738502 , 0.9738502 ,\n",
              "       0.9738502 , 0.9738502 , 0.9738502 , 0.9738502 , 0.9738502 ,\n",
              "       0.9738502 , 0.9738502 , 0.9738502 , 0.9738502 , 0.9738502 ,\n",
              "       0.9738502 , 0.9738502 , 0.9738502 , 0.9738502 , 0.97440576,\n",
              "       0.97440576, 0.97440576, 0.97440576, 0.97440576, 0.97440576,\n",
              "       0.97440576, 0.97440576, 0.97440576, 0.97440576, 0.97440576,\n",
              "       0.97440576, 0.97440576, 0.97440576, 0.97440576, 0.97440576,\n",
              "       0.97440576, 0.97440576, 0.97440576, 0.97440576, 0.97440576,\n",
              "       0.97440576, 0.97440576, 0.97440576, 0.97440576, 0.97440576,\n",
              "       0.97440576, 0.97440576, 0.97440576, 0.97440576, 0.97440576,\n",
              "       0.97440576, 0.97440576, 0.97440576, 0.97440576, 0.9738502 ,\n",
              "       0.9738502 , 0.9738502 , 0.9738502 , 0.9738502 , 0.9738502 ,\n",
              "       0.9738502 , 0.9738502 , 0.9738502 , 0.9738502 , 0.9738502 ,\n",
              "       0.9738502 , 0.9738502 , 0.9738502 , 0.9738502 , 0.9738502 ,\n",
              "       0.9738502 , 0.9738502 , 0.9738502 , 0.9738502 , 0.9738502 ,\n",
              "       0.9738502 , 0.9738502 , 0.9738502 , 0.9738502 ])"
            ]
          },
          "metadata": {},
          "execution_count": 198
        }
      ]
    },
    {
      "cell_type": "code",
      "source": [
        "# Graficando la curva de validación.\n",
        "plt.figure(figsize=(10,8))\n",
        "plt.plot(cValues, score_test.mean(axis=1), label='test')\n",
        "plt.plot(cValues, score_train.mean(axis=1), label='train')\n",
        "plt.title('Validation Curve')\n",
        "plt.xlabel('C')\n",
        "plt.ylabel('Accuracy')\n",
        "plt.legend()"
      ],
      "metadata": {
        "colab": {
          "base_uri": "https://localhost:8080/",
          "height": 530
        },
        "id": "QVJrtmpKS4b1",
        "outputId": "9cee70dc-5e08-49e4-a455-96e25aa34c1b"
      },
      "execution_count": null,
      "outputs": [
        {
          "output_type": "execute_result",
          "data": {
            "text/plain": [
              "<matplotlib.legend.Legend at 0x7f512672ba90>"
            ]
          },
          "metadata": {},
          "execution_count": 199
        },
        {
          "output_type": "display_data",
          "data": {
            "text/plain": [
              "<Figure size 720x576 with 1 Axes>"
            ],
            "image/png": "[encoded data removed]"
          },
          "metadata": {
            "needs_background": "light"
          }
        }
      ]
    },
    {
      "cell_type": "code",
      "source": [
        "# Seleccionando el mejor modelo basado en la métrica de accuracy.\n",
        "idx = score_test.mean(axis=1).argmax()\n",
        "bestC = cValues[idx]\n",
        "bestC\n",
        "print(\"Mejor valor de C es\", bestC)\n",
        "print(\"El accuracy producido por el mejor C es\",score_test.mean(axis=1)[81])"
      ],
      "metadata": {
        "colab": {
          "base_uri": "https://localhost:8080/"
        },
        "id": "E4oRDzixfAbb",
        "outputId": "62fe7a14-72b6-4d2d-8f10-56140deba176"
      },
      "execution_count": null,
      "outputs": [
        {
          "output_type": "stream",
          "name": "stdout",
          "text": [
            "Mejor valor de C es 4.1\n",
            "El accuracy producido por el mejor C es 0.9744073042401734\n"
          ]
        }
      ]
    },
    {
      "cell_type": "markdown",
      "source": [
        "### Entrenando el modelo"
      ],
      "metadata": {
        "id": "_2vmObFzjQal"
      }
    },
    {
      "cell_type": "code",
      "source": [
        "X_train, X_test, y_train, y_test = train_test_split(X, y, test_size = 0.2, random_state = 42) # División de los datos en entrenamiento y validación."
      ],
      "metadata": {
        "id": "ex89S3iJiHij"
      },
      "execution_count": null,
      "outputs": []
    },
    {
      "cell_type": "code",
      "source": [
        "finalSVM = SVC(C = bestC) # Se crea una instancia del modelo con el mejor parámetro C encontrado en la sección anterior.\n",
        "finalSVM.fit(X_train, y_train) # Se ajusta el modelo."
      ],
      "metadata": {
        "colab": {
          "base_uri": "https://localhost:8080/"
        },
        "id": "M2x_rRRSkLfA",
        "outputId": "460799ec-ed68-4039-9cb7-d844df7e0fa4"
      },
      "execution_count": null,
      "outputs": [
        {
          "output_type": "execute_result",
          "data": {
            "text/plain": [
              "SVC(C=4.1)"
            ]
          },
          "metadata": {},
          "execution_count": 202
        }
      ]
    },
    {
      "cell_type": "code",
      "source": [
        "y_pred_train = finalSVM.predict(X_train) # Predicciones para los datos de entrenamiento.\n",
        "y_pred_test = finalSVM.predict(X_test) # Predicciones para los datos de validación."
      ],
      "metadata": {
        "id": "WAkDR-pGm7Zx"
      },
      "execution_count": null,
      "outputs": []
    },
    {
      "cell_type": "code",
      "source": [
        "# Reporte general donde se observan en una tabla las métricas de puntajes precision, recall y f1 para las predicciones de todas las clases.\n",
        "print(classification_report(y_test, y_pred_test))"
      ],
      "metadata": {
        "colab": {
          "base_uri": "https://localhost:8080/"
        },
        "id": "CifBQY0Bmc83",
        "outputId": "155dcf42-c48c-407e-c08e-314e89dee3bd"
      },
      "execution_count": null,
      "outputs": [
        {
          "output_type": "stream",
          "name": "stdout",
          "text": [
            "              precision    recall  f1-score   support\n",
            "\n",
            "           0       1.00      1.00      1.00        33\n",
            "           1       1.00      1.00      1.00        28\n",
            "           2       1.00      1.00      1.00        33\n",
            "           3       1.00      0.97      0.99        34\n",
            "           4       1.00      1.00      1.00        46\n",
            "           5       0.98      0.98      0.98        47\n",
            "           6       0.97      1.00      0.99        35\n",
            "           7       0.97      0.97      0.97        34\n",
            "           8       1.00      1.00      1.00        30\n",
            "           9       0.97      0.97      0.97        40\n",
            "\n",
            "    accuracy                           0.99       360\n",
            "   macro avg       0.99      0.99      0.99       360\n",
            "weighted avg       0.99      0.99      0.99       360\n",
            "\n"
          ]
        }
      ]
    },
    {
      "cell_type": "code",
      "source": [
        "# Desempeño del modelo basado en la métrica de accuracy.\n",
        "print(\"Accuracy_train\", accuracy_score(y_pred_train, y_train))\n",
        "print(\"Accuracy_test\",accuracy_score(y_pred_test, y_test))"
      ],
      "metadata": {
        "colab": {
          "base_uri": "https://localhost:8080/"
        },
        "id": "SjtaPuvrnPxA",
        "outputId": "acdd8f15-a44c-4347-f288-d3a907f95c0b"
      },
      "execution_count": null,
      "outputs": [
        {
          "output_type": "stream",
          "name": "stdout",
          "text": [
            "Accuracy_train 0.9993041057759221\n",
            "Accuracy_test 0.9888888888888889\n"
          ]
        }
      ]
    },
    {
      "cell_type": "markdown",
      "source": [
        "### Comentarios\n",
        "\n",
        "Para el modelo de Support Vector Machine se usó una curva de validación con la intención de encontrar el mejor parámetro C, el cual determina la cantidad de puntos que estarán dentro de margin y cuántos fuera, por lo tanto, se trata de una aplicación de Soft Margin SVM. <br />\n",
        "\n",
        "El intervalo usado para tomar los valores posibles de C fue de 0.05 a 10 aumentando 0.05 en cada paso. De esta manera se buscaba manejar varios valores no tan grandes para observar el comportamiento. Al final resultó ser útil esta lógica debido a que en los valores más altos se estancaba y producía el mismo desempeño."
      ],
      "metadata": {
        "id": "iO2qutVPdeBR"
      }
    },
    {
      "cell_type": "markdown",
      "source": [
        "## Task 3: Decision Tree"
      ],
      "metadata": {
        "id": "aJsIJdKtgJRh"
      }
    },
    {
      "cell_type": "markdown",
      "source": [
        "### Encontrando la mejor profundidad"
      ],
      "metadata": {
        "id": "_aHZjtmwwI6u"
      }
    },
    {
      "cell_type": "code",
      "source": [
        "from sklearn.tree import DecisionTreeClassifier # Se importa la herramienta necesaria para aplica los árboles de decisión."
      ],
      "metadata": {
        "id": "f4uMbCj4xxf5"
      },
      "execution_count": null,
      "outputs": []
    },
    {
      "cell_type": "code",
      "source": [
        "dtModel = DecisionTreeClassifier(criterion = 'gini', max_depth = 2) # Se crea una instancia de la clase del modelo para luego hacer uso de ella.\n",
        "dtModel.get_params() # Consulta de parámetros del modelo."
      ],
      "metadata": {
        "colab": {
          "base_uri": "https://localhost:8080/"
        },
        "id": "Iek7EcFa5Mlj",
        "outputId": "fe5e53fc-3bdc-41eb-c1cc-6a48a37017ea"
      },
      "execution_count": null,
      "outputs": [
        {
          "output_type": "execute_result",
          "data": {
            "text/plain": [
              "{'ccp_alpha': 0.0,\n",
              " 'class_weight': None,\n",
              " 'criterion': 'gini',\n",
              " 'max_depth': 2,\n",
              " 'max_features': None,\n",
              " 'max_leaf_nodes': None,\n",
              " 'min_impurity_decrease': 0.0,\n",
              " 'min_samples_leaf': 1,\n",
              " 'min_samples_split': 2,\n",
              " 'min_weight_fraction_leaf': 0.0,\n",
              " 'random_state': None,\n",
              " 'splitter': 'best'}"
            ]
          },
          "metadata": {},
          "execution_count": 207
        }
      ]
    },
    {
      "cell_type": "code",
      "source": [
        "depthValues = np.arange(1, 100) # Se crea un arreglo donde se guardan los posibles valores de la profundidad con la finalidad de encontrar aquella que resulte con un mejor accuracy.\n",
        "depthValues"
      ],
      "metadata": {
        "colab": {
          "base_uri": "https://localhost:8080/"
        },
        "id": "0m4PQuRO5e5W",
        "outputId": "5463bbe4-a43e-4061-b112-8314ff20ef3b"
      },
      "execution_count": null,
      "outputs": [
        {
          "output_type": "execute_result",
          "data": {
            "text/plain": [
              "array([ 1,  2,  3,  4,  5,  6,  7,  8,  9, 10, 11, 12, 13, 14, 15, 16, 17,\n",
              "       18, 19, 20, 21, 22, 23, 24, 25, 26, 27, 28, 29, 30, 31, 32, 33, 34,\n",
              "       35, 36, 37, 38, 39, 40, 41, 42, 43, 44, 45, 46, 47, 48, 49, 50, 51,\n",
              "       52, 53, 54, 55, 56, 57, 58, 59, 60, 61, 62, 63, 64, 65, 66, 67, 68,\n",
              "       69, 70, 71, 72, 73, 74, 75, 76, 77, 78, 79, 80, 81, 82, 83, 84, 85,\n",
              "       86, 87, 88, 89, 90, 91, 92, 93, 94, 95, 96, 97, 98, 99])"
            ]
          },
          "metadata": {},
          "execution_count": 208
        }
      ]
    },
    {
      "cell_type": "code",
      "source": [
        "score_train, score_test = validation_curve(dtModel, X, y, param_name ='max_depth', param_range = depthValues, cv = 10, scoring ='accuracy') # Se aplica la curva de validación."
      ],
      "metadata": {
        "id": "xKLkYmcT5qKB"
      },
      "execution_count": null,
      "outputs": []
    },
    {
      "cell_type": "code",
      "source": [
        "score_test.mean(axis=1) # Se listan los accuracy de las profundidades que se tuvieron en cuenta."
      ],
      "metadata": {
        "colab": {
          "base_uri": "https://localhost:8080/"
        },
        "id": "sSrS77OH7E7i",
        "outputId": "18df1446-4f75-408d-808b-55a47d94702b"
      },
      "execution_count": null,
      "outputs": [
        {
          "output_type": "execute_result",
          "data": {
            "text/plain": [
              "array([0.19755121, 0.31111421, 0.45913408, 0.54537244, 0.63832092,\n",
              "       0.73788641, 0.78796089, 0.80801986, 0.82749534, 0.82578212,\n",
              "       0.82634699, 0.82247362, 0.82412166, 0.8224612 , 0.82970205,\n",
              "       0.82080074, 0.83079764, 0.82581006, 0.81800435, 0.82693669,\n",
              "       0.8341496 , 0.82077592, 0.82192427, 0.82747362, 0.82526071,\n",
              "       0.82857852, 0.82191496, 0.83358163, 0.83637182, 0.82915891,\n",
              "       0.8263532 , 0.82801366, 0.81969584, 0.82191186, 0.82689634,\n",
              "       0.8291527 , 0.81967412, 0.82080695, 0.82132216, 0.83082557,\n",
              "       0.82803538, 0.81354749, 0.82860335, 0.81857852, 0.82526071,\n",
              "       0.82190875, 0.82021726, 0.82522967, 0.82689013, 0.82634699,\n",
              "       0.823563  , 0.82634389, 0.82301055, 0.82523588, 0.82358473,\n",
              "       0.83358473, 0.827455  , 0.83247983, 0.827455  , 0.83081316,\n",
              "       0.82803228, 0.82191806, 0.82523588, 0.82080074, 0.82024209,\n",
              "       0.82802297, 0.82690565, 0.83303228, 0.8213594 , 0.82189323,\n",
              "       0.8274581 , 0.82468343, 0.82189944, 0.81580695, 0.82358783,\n",
              "       0.8235599 , 0.82692737, 0.82633768, 0.82914649, 0.8224612 ,\n",
              "       0.82522967, 0.82912477, 0.82191186, 0.83302607, 0.83024519,\n",
              "       0.82913718, 0.82636251, 0.82022657, 0.82301676, 0.82914339,\n",
              "       0.82077281, 0.82688082, 0.8263563 , 0.82413718, 0.82802607,\n",
              "       0.82971446, 0.82190875, 0.82577281, 0.82416511])"
            ]
          },
          "metadata": {},
          "execution_count": 210
        }
      ]
    },
    {
      "cell_type": "code",
      "source": [
        "# Graficando la curva de validación.\n",
        "plt.figure(figsize=(10,8))\n",
        "plt.plot(depthValues, score_test.mean(axis=1), label='test')\n",
        "plt.plot(depthValues, score_train.mean(axis=1), label='train')\n",
        "plt.title('Validation Curve')\n",
        "plt.xlabel('Depth')\n",
        "plt.ylabel('Accuracy')\n",
        "plt.legend()"
      ],
      "metadata": {
        "colab": {
          "base_uri": "https://localhost:8080/",
          "height": 530
        },
        "id": "KZphz93q7EcU",
        "outputId": "5d3b783f-6b16-488d-9068-5004350933a3"
      },
      "execution_count": null,
      "outputs": [
        {
          "output_type": "execute_result",
          "data": {
            "text/plain": [
              "<matplotlib.legend.Legend at 0x7f5126390650>"
            ]
          },
          "metadata": {},
          "execution_count": 211
        },
        {
          "output_type": "display_data",
          "data": {
            "text/plain": [
              "<Figure size 720x576 with 1 Axes>"
            ],
            "image/png": "[encoded data removed]"
          },
          "metadata": {
            "needs_background": "light"
          }
        }
      ]
    },
    {
      "cell_type": "code",
      "source": [
        "# Seleccionando el mejor modelo basado en la métrica de accuracy.\n",
        "idx = score_test.mean(axis=1).argmax()\n",
        "bestDepth = depthValues[idx]\n",
        "print(\"Mejor valor para la profundidad es\", bestDepth)\n",
        "print(\"El accuracy producido por la mejor profundidad es\",score_test.mean(axis=1)[idx])"
      ],
      "metadata": {
        "colab": {
          "base_uri": "https://localhost:8080/"
        },
        "id": "4ycB3DR48pK9",
        "outputId": "1a9e50f5-0d9f-4488-922e-a7e6c156fc26"
      },
      "execution_count": null,
      "outputs": [
        {
          "output_type": "stream",
          "name": "stdout",
          "text": [
            "Mejor valor para la profundidad es 29\n",
            "El accuracy producido por la mejor profundidad es 0.8363718187461207\n"
          ]
        }
      ]
    },
    {
      "cell_type": "markdown",
      "source": [
        "### Entrenando el modelo"
      ],
      "metadata": {
        "id": "wcY9OWHQwL_k"
      }
    },
    {
      "cell_type": "code",
      "source": [
        "X_train, X_test, y_train, y_test = train_test_split(X, y, test_size = 0.2, random_state = 42) # Selección de datos de entrenamiento y validación."
      ],
      "metadata": {
        "id": "zRWptO6WA_Mz"
      },
      "execution_count": null,
      "outputs": []
    },
    {
      "cell_type": "code",
      "source": [
        "finalDT = DecisionTreeClassifier(criterion = 'gini', max_depth = bestDepth) # Se crea una instancia de la clase del modelo con el mejor parámetro encontrado.\n",
        "finalDT.fit(X_train, y_train) # Se ajusta el modelo."
      ],
      "metadata": {
        "colab": {
          "base_uri": "https://localhost:8080/"
        },
        "id": "siPC3cU2BBV_",
        "outputId": "e1c96b88-27ec-406f-afca-8a5d977f8d42"
      },
      "execution_count": null,
      "outputs": [
        {
          "output_type": "execute_result",
          "data": {
            "text/plain": [
              "DecisionTreeClassifier(max_depth=29)"
            ]
          },
          "metadata": {},
          "execution_count": 214
        }
      ]
    },
    {
      "cell_type": "code",
      "source": [
        "y_pred_train = finalDT.predict(X_train) # Se realizan las predicciones para los datos de entrenamiento.\n",
        "y_pred_test = finalDT.predict(X_test) # Se realizan las predicciones para los datos de validación."
      ],
      "metadata": {
        "id": "__x-XneTBUxg"
      },
      "execution_count": null,
      "outputs": []
    },
    {
      "cell_type": "code",
      "source": [
        "# Reporte general donde se observan en una tabla las métricas de puntajes precision, recall y f1 para las predicciones de todas las clases.\n",
        "print(classification_report(y_test, y_pred_test))"
      ],
      "metadata": {
        "colab": {
          "base_uri": "https://localhost:8080/"
        },
        "id": "d_DE6lorBgA-",
        "outputId": "464ad37b-388d-4f10-ab2a-3671749ffdb3"
      },
      "execution_count": null,
      "outputs": [
        {
          "output_type": "stream",
          "name": "stdout",
          "text": [
            "              precision    recall  f1-score   support\n",
            "\n",
            "           0       0.97      0.88      0.92        33\n",
            "           1       0.92      0.79      0.85        28\n",
            "           2       0.86      0.76      0.81        33\n",
            "           3       0.75      0.88      0.81        34\n",
            "           4       0.82      0.87      0.84        46\n",
            "           5       0.90      0.91      0.91        47\n",
            "           6       0.91      0.91      0.91        35\n",
            "           7       0.88      0.82      0.85        34\n",
            "           8       0.75      0.70      0.72        30\n",
            "           9       0.78      0.88      0.82        40\n",
            "\n",
            "    accuracy                           0.85       360\n",
            "   macro avg       0.85      0.84      0.84       360\n",
            "weighted avg       0.85      0.85      0.85       360\n",
            "\n"
          ]
        }
      ]
    },
    {
      "cell_type": "code",
      "source": [
        "# Desempeño del modelo basado en la métrica de accuracy.\n",
        "print(\"Accuracy_train\", accuracy_score(y_pred_train, y_train))\n",
        "print(\"Accuracy_test\",accuracy_score(y_pred_test, y_test))"
      ],
      "metadata": {
        "colab": {
          "base_uri": "https://localhost:8080/"
        },
        "id": "CL3_a6fPBj7K",
        "outputId": "b7a46f18-24d2-45b3-fe4e-fdf3da9b882e"
      },
      "execution_count": null,
      "outputs": [
        {
          "output_type": "stream",
          "name": "stdout",
          "text": [
            "Accuracy_train 1.0\n",
            "Accuracy_test 0.8472222222222222\n"
          ]
        }
      ]
    },
    {
      "cell_type": "markdown",
      "source": [
        "### Comentarios\n",
        "\n",
        "Para el modelo de Decision Tree también se usó una curva de validación para encontrar la profundidad que produce el mejor accuracy para el modelo. <br />\n",
        "\n",
        "En este caso se usó un intervalo de posibles profundidades que van desde 1 a 100, obteniendo resultados bastante malos para las primeras profundidades, pero logrando estabilizarse por encima del 80% de accuracy en profundidades mayores.<br />\n",
        "\n",
        "Se usó como criterio gini, ya que fue el visto y explicado en clase, sin embargo, en algunas pruebas se pudo observar que entropy tiene resultado ligeramente mejores."
      ],
      "metadata": {
        "id": "l-1Iy_Z3fcKN"
      }
    },
    {
      "cell_type": "markdown",
      "source": [
        "## Task 4: Random Forest"
      ],
      "metadata": {
        "id": "znCrSgamgN1x"
      }
    },
    {
      "cell_type": "markdown",
      "source": [
        "### Encontrando la mejor profundidad"
      ],
      "metadata": {
        "id": "dNGHbq1IQAPa"
      }
    },
    {
      "cell_type": "code",
      "source": [
        "from sklearn.ensemble import RandomForestClassifier # Se importa la herramienta necesaria para aplicar Random Forest."
      ],
      "metadata": {
        "id": "XQBdIBgxMz6z"
      },
      "execution_count": null,
      "outputs": []
    },
    {
      "cell_type": "code",
      "source": [
        "rfModel = RandomForestClassifier(n_estimators = 200, criterion = 'gini', max_depth = 2)\n",
        "rfModel.get_params()"
      ],
      "metadata": {
        "colab": {
          "base_uri": "https://localhost:8080/"
        },
        "id": "bueSAwn-QVa-",
        "outputId": "03858d63-4f6b-4f58-ff9f-508c68d194c5"
      },
      "execution_count": null,
      "outputs": [
        {
          "output_type": "execute_result",
          "data": {
            "text/plain": [
              "{'bootstrap': True,\n",
              " 'ccp_alpha': 0.0,\n",
              " 'class_weight': None,\n",
              " 'criterion': 'gini',\n",
              " 'max_depth': 2,\n",
              " 'max_features': 'auto',\n",
              " 'max_leaf_nodes': None,\n",
              " 'max_samples': None,\n",
              " 'min_impurity_decrease': 0.0,\n",
              " 'min_samples_leaf': 1,\n",
              " 'min_samples_split': 2,\n",
              " 'min_weight_fraction_leaf': 0.0,\n",
              " 'n_estimators': 200,\n",
              " 'n_jobs': None,\n",
              " 'oob_score': False,\n",
              " 'random_state': None,\n",
              " 'verbose': 0,\n",
              " 'warm_start': False}"
            ]
          },
          "metadata": {},
          "execution_count": 219
        }
      ]
    },
    {
      "cell_type": "code",
      "source": [
        "rfDepths = np.arange(2, 50, 2)\n",
        "rfDepths"
      ],
      "metadata": {
        "colab": {
          "base_uri": "https://localhost:8080/"
        },
        "id": "0XUILEpsQhPr",
        "outputId": "6ddc48c9-40c0-42bc-ad8c-35e47f5a82a7"
      },
      "execution_count": null,
      "outputs": [
        {
          "output_type": "execute_result",
          "data": {
            "text/plain": [
              "array([ 2,  4,  6,  8, 10, 12, 14, 16, 18, 20, 22, 24, 26, 28, 30, 32, 34,\n",
              "       36, 38, 40, 42, 44, 46, 48])"
            ]
          },
          "metadata": {},
          "execution_count": 220
        }
      ]
    },
    {
      "cell_type": "code",
      "source": [
        "score_train, score_test = validation_curve(rfModel, X, y, param_name ='max_depth', param_range = rfDepths, cv = 10, scoring ='accuracy') # Se aplica la curva de validación."
      ],
      "metadata": {
        "id": "E26j2i86QwO0"
      },
      "execution_count": null,
      "outputs": []
    },
    {
      "cell_type": "code",
      "source": [
        "score_test.mean(axis=1) # Se listan los accuracy de las profundidades que se tuvieron en cuenta."
      ],
      "metadata": {
        "colab": {
          "base_uri": "https://localhost:8080/"
        },
        "id": "dA5PwDsoQyFC",
        "outputId": "ea8e3c4f-3823-4c9f-9550-a3e46587798b"
      },
      "execution_count": null,
      "outputs": [
        {
          "output_type": "execute_result",
          "data": {
            "text/plain": [
              "array([0.80800745, 0.89091248, 0.92928926, 0.94154873, 0.94989758,\n",
              "       0.94489137, 0.95102421, 0.95324022, 0.95158908, 0.95047176,\n",
              "       0.95046245, 0.94767225, 0.95213842, 0.94990689, 0.95213222,\n",
              "       0.95102421, 0.9510149 , 0.95103042, 0.94712601, 0.94767846,\n",
              "       0.94934823, 0.9471198 , 0.95325574, 0.95047176])"
            ]
          },
          "metadata": {},
          "execution_count": 222
        }
      ]
    },
    {
      "cell_type": "code",
      "source": [
        "# Graficando la curva de validación.\n",
        "plt.figure(figsize=(10,8))\n",
        "plt.plot(rfDepths, score_test.mean(axis=1), label='test')\n",
        "plt.plot(rfDepths, score_train.mean(axis=1), label='train')\n",
        "plt.title('Validation Curve')\n",
        "plt.xlabel('Depth')\n",
        "plt.ylabel('Accuracy')\n",
        "plt.legend()"
      ],
      "metadata": {
        "colab": {
          "base_uri": "https://localhost:8080/",
          "height": 530
        },
        "id": "r4WBWNCrQz5s",
        "outputId": "00759710-a9c7-410d-d7f8-5a04632f86c7"
      },
      "execution_count": null,
      "outputs": [
        {
          "output_type": "execute_result",
          "data": {
            "text/plain": [
              "<matplotlib.legend.Legend at 0x7f51263f9210>"
            ]
          },
          "metadata": {},
          "execution_count": 223
        },
        {
          "output_type": "display_data",
          "data": {
            "text/plain": [
              "<Figure size 720x576 with 1 Axes>"
            ],
            "image/png": "[encoded data removed]"
          },
          "metadata": {
            "needs_background": "light"
          }
        }
      ]
    },
    {
      "cell_type": "code",
      "source": [
        "# Seleccionando el mejor modelo basado en la métrica de accuracy.\n",
        "idx = score_test.mean(axis=1).argmax()\n",
        "bestDepthRF = rfDepths[idx]\n",
        "print(\"Mejor valor para la profundidad es\", bestDepthRF)\n",
        "print(\"El accuracy producido por la mejor profundidad es\",score_test.mean(axis=1)[idx])"
      ],
      "metadata": {
        "colab": {
          "base_uri": "https://localhost:8080/"
        },
        "id": "SVk5NezWQ2M8",
        "outputId": "fb87699f-7c53-4de6-c3e9-c9e9e0760f0c"
      },
      "execution_count": null,
      "outputs": [
        {
          "output_type": "stream",
          "name": "stdout",
          "text": [
            "Mejor valor para la profundidad es 46\n",
            "El accuracy producido por la mejor profundidad es 0.9532557417752947\n"
          ]
        }
      ]
    },
    {
      "cell_type": "markdown",
      "source": [
        "### Entrenando el modelo"
      ],
      "metadata": {
        "id": "MX5cHKvmQHHC"
      }
    },
    {
      "cell_type": "code",
      "source": [
        "X_train, X_test, y_train, y_test = train_test_split(X, y, test_size = 0.2, random_state = 42) # Selección de datos de entrenamiento y validación."
      ],
      "metadata": {
        "id": "B2o_BHq6QGkP"
      },
      "execution_count": null,
      "outputs": []
    },
    {
      "cell_type": "code",
      "source": [
        "finalRF = RandomForestClassifier(n_estimators = 200, criterion = 'gini', max_depth = bestDepthRF) # Se crea una instancia de la clase del modelo con el mejor parámetro encontrado anteriormente.\n",
        "finalRF.fit(X_train, y_train) # Se ajusta el modelo."
      ],
      "metadata": {
        "colab": {
          "base_uri": "https://localhost:8080/"
        },
        "id": "8oZJNCYmUrs1",
        "outputId": "391c5cb4-a901-4707-c6d0-e1c56633edd8"
      },
      "execution_count": null,
      "outputs": [
        {
          "output_type": "execute_result",
          "data": {
            "text/plain": [
              "RandomForestClassifier(max_depth=46, n_estimators=200)"
            ]
          },
          "metadata": {},
          "execution_count": 226
        }
      ]
    },
    {
      "cell_type": "code",
      "source": [
        "y_pred_train = finalRF.predict(X_train) # Se hacen las predicciones para datos de entrenamiento.\n",
        "y_pred_test = finalRF.predict(X_test) # Se hacen las predicciones para datos de validación."
      ],
      "metadata": {
        "id": "Urfz4mi3VBms"
      },
      "execution_count": null,
      "outputs": []
    },
    {
      "cell_type": "code",
      "source": [
        "# Reporte general donde se observan en una tabla las métricas de puntajes precision, recall y f1 para las predicciones de todas las clases.\n",
        "print(classification_report(y_test, y_pred_test))"
      ],
      "metadata": {
        "colab": {
          "base_uri": "https://localhost:8080/"
        },
        "id": "ehcPfpV2VNAZ",
        "outputId": "44100049-609e-4960-cf17-1b791922e8ea"
      },
      "execution_count": null,
      "outputs": [
        {
          "output_type": "stream",
          "name": "stdout",
          "text": [
            "              precision    recall  f1-score   support\n",
            "\n",
            "           0       1.00      0.97      0.98        33\n",
            "           1       0.97      1.00      0.98        28\n",
            "           2       1.00      1.00      1.00        33\n",
            "           3       1.00      1.00      1.00        34\n",
            "           4       0.98      1.00      0.99        46\n",
            "           5       0.98      0.98      0.98        47\n",
            "           6       0.97      0.97      0.97        35\n",
            "           7       0.97      0.97      0.97        34\n",
            "           8       1.00      0.97      0.98        30\n",
            "           9       0.97      0.97      0.97        40\n",
            "\n",
            "    accuracy                           0.98       360\n",
            "   macro avg       0.98      0.98      0.98       360\n",
            "weighted avg       0.98      0.98      0.98       360\n",
            "\n"
          ]
        }
      ]
    },
    {
      "cell_type": "code",
      "source": [
        "# Desempeño del modelo basado en la métrica de accuracy.\n",
        "print(\"Accuracy_train\", accuracy_score(y_pred_train, y_train))\n",
        "print(\"Accuracy_test\",accuracy_score(y_pred_test, y_test))"
      ],
      "metadata": {
        "colab": {
          "base_uri": "https://localhost:8080/"
        },
        "id": "88KPvqgIVYJu",
        "outputId": "b67de982-92ef-4df4-f6d7-f4ac45630bf5"
      },
      "execution_count": null,
      "outputs": [
        {
          "output_type": "stream",
          "name": "stdout",
          "text": [
            "Accuracy_train 1.0\n",
            "Accuracy_test 0.9833333333333333\n"
          ]
        }
      ]
    },
    {
      "cell_type": "markdown",
      "source": [
        "### Comentarios\n",
        "\n",
        "Para el modelo de Random Forest también se usó una curva de validación para encontrar la profundidad que produce el mejor accuracy para el modelo. <br />\n",
        "\n",
        "En este caso se usó un intervalo de posibles profundidades que van desde 2 a 50 con pasos de a 2, ya que el modelo se demoraba mucho al poner varias opciones de profundidades.<br />\n",
        "\n",
        "Como el enunciado pedía solo encontrar la profundidad, se colocó un número fijo en la cantidad de árboles, no obstante en otra versión se busca el mejor valor para ambos parámetros."
      ],
      "metadata": {
        "id": "Cytv-ZnCg6GJ"
      }
    },
    {
      "cell_type": "markdown",
      "source": [
        "## Task 4 Versión 2: Random Forest"
      ],
      "metadata": {
        "id": "BvKO1clZYH-P"
      }
    },
    {
      "cell_type": "markdown",
      "source": [
        "### Encontrando la mejor cantidad de árboles y la mejor profundidad"
      ],
      "metadata": {
        "id": "V_-CfiGJbF66"
      }
    },
    {
      "cell_type": "code",
      "source": [
        "auxRFModel = RandomForestClassifier()\n",
        "\n",
        "treesNumber = [100, 150, 200]\n",
        "depth = [2, 4, 6, 8, 10, 12, 14, 16, 18, 20]\n",
        "\n",
        "hyperparams = dict(n_estimators = treesNumber,\n",
        "                   max_depth = depth)\n",
        "\n",
        "grid = GridSearchCV(auxRFModel, hyperparams, cv = 10, scoring = 'accuracy')\n",
        "\n",
        "# fitting the model for grid search\n",
        "grid_search = grid.fit(X_train, y_train)"
      ],
      "metadata": {
        "id": "TPTcAznUYQf7"
      },
      "execution_count": null,
      "outputs": []
    },
    {
      "cell_type": "code",
      "source": [
        "print('La mejor profundidad encontrada es', grid_search.best_estimator_.get_params()['max_depth']) # Se muestra la profundidad máxima con la cual se obtuvo el mejor desempeño en el modelo.\n",
        "print('La mejor cantidad de árboles encontrada es', grid_search.best_estimator_.get_params()['n_estimators']) # Se muestra el criterio con el cual se obtuvo mejor desempeño en el modelo."
      ],
      "metadata": {
        "colab": {
          "base_uri": "https://localhost:8080/"
        },
        "id": "TM8r163fYyQO",
        "outputId": "cb93f654-93aa-41a5-d557-eba9e7b02017"
      },
      "execution_count": null,
      "outputs": [
        {
          "output_type": "stream",
          "name": "stdout",
          "text": [
            "La mejor profundidad encontrada es 14\n",
            "La mejor cantidad de árboles encontrada es 200\n"
          ]
        }
      ]
    },
    {
      "cell_type": "code",
      "source": [
        "bestDepthRF = grid_search.best_estimator_.get_params()['max_depth']\n",
        "bestTreesRF = grid_search.best_estimator_.get_params()['n_estimators']"
      ],
      "metadata": {
        "id": "R91H6aasaiLk"
      },
      "execution_count": null,
      "outputs": []
    },
    {
      "cell_type": "markdown",
      "source": [
        "### Aplicando los mejores parámetros encontrados"
      ],
      "metadata": {
        "id": "LQ_8mqpvbRKp"
      }
    },
    {
      "cell_type": "code",
      "source": [
        "finalRandomForestModel = RandomForestClassifier(n_estimators = bestTreesRF, criterion='gini', max_depth = bestDepthRF)\n",
        "finalRandomForestModel.fit(X_train, y_train)\n",
        "\n",
        "y_pred_train = finalRandomForestModel.predict(X_train)\n",
        "y_pred_test = finalRandomForestModel.predict(X_test)"
      ],
      "metadata": {
        "id": "35jay-tOahvn"
      },
      "execution_count": null,
      "outputs": []
    },
    {
      "cell_type": "code",
      "source": [
        "# Reporte general donde se observan en una tabla las métricas de puntajes precision, recall y f1.\n",
        "print(classification_report(y_test, y_pred_test))"
      ],
      "metadata": {
        "colab": {
          "base_uri": "https://localhost:8080/"
        },
        "id": "f8nK8Pu5a7dK",
        "outputId": "151c9370-126d-4c01-a4fd-f7e1bd7638b4"
      },
      "execution_count": null,
      "outputs": [
        {
          "output_type": "stream",
          "name": "stdout",
          "text": [
            "              precision    recall  f1-score   support\n",
            "\n",
            "           0       0.97      0.97      0.97        32\n",
            "           1       1.00      0.98      0.99        41\n",
            "           2       0.97      0.97      0.97        36\n",
            "           3       1.00      1.00      1.00        35\n",
            "           4       0.97      0.89      0.93        36\n",
            "           5       1.00      1.00      1.00        37\n",
            "           6       1.00      1.00      1.00        39\n",
            "           7       0.89      0.97      0.93        34\n",
            "           8       0.97      0.97      0.97        33\n",
            "           9       0.95      0.97      0.96        37\n",
            "\n",
            "    accuracy                           0.97       360\n",
            "   macro avg       0.97      0.97      0.97       360\n",
            "weighted avg       0.97      0.97      0.97       360\n",
            "\n"
          ]
        }
      ]
    },
    {
      "cell_type": "code",
      "source": [
        "# Desempeño del modelo basado en la métrica de accuracy.\n",
        "print(\"Accuracy_train\", accuracy_score(y_pred_train, y_train))\n",
        "print(\"Accuracy_test\",accuracy_score(y_pred_test, y_test))"
      ],
      "metadata": {
        "colab": {
          "base_uri": "https://localhost:8080/"
        },
        "id": "THWKwO-ia-hJ",
        "outputId": "83dbd5cb-1d2d-4f7d-8273-b206686c3150"
      },
      "execution_count": null,
      "outputs": [
        {
          "output_type": "stream",
          "name": "stdout",
          "text": [
            "Accuracy_train 1.0\n",
            "Accuracy_test 0.9722222222222222\n"
          ]
        }
      ]
    },
    {
      "cell_type": "markdown",
      "source": [
        "### Comentarios\n",
        "\n",
        "Se decidió hacer una segunda versión del Random Forest donde se busca el mejor valor para la cantidad de árboles y la profundidad, ya que se considera que estos son los datos más importante e influyentes en este modelo teniendo en cuenta lo visto en clase.<br />\n",
        "\n",
        "Para encontrar el mejor valor de ambos parámetros se usó gridseach y no una curva de validación, esto debido a que era más de un parámetro."
      ],
      "metadata": {
        "id": "OC6Be3f6hotP"
      }
    },
    {
      "cell_type": "markdown",
      "source": [
        "## Task 5: Artificial Neural Network"
      ],
      "metadata": {
        "id": "00RSaidfgTAH"
      }
    },
    {
      "cell_type": "code",
      "source": [
        "from sklearn.neural_network import MLPClassifier # Se importa la herramienta necesaria para aplicar multi layer perceptron classifier."
      ],
      "metadata": {
        "id": "6goU0ZkRlYO4"
      },
      "execution_count": null,
      "outputs": []
    },
    {
      "cell_type": "code",
      "source": [
        "X_train, X_test , y_train, y_test = train_test_split(X, y, test_size=0.2) # División de los datos de entrenamiento y validación."
      ],
      "metadata": {
        "id": "-wQ11yUzlfcH"
      },
      "execution_count": null,
      "outputs": []
    },
    {
      "cell_type": "code",
      "source": [
        "mlpModel = MLPClassifier(hidden_layer_sizes = (20, 10, 10, 10), max_iter = 500, learning_rate_init = 0.001) # Se crea una instancia de la clase del modelo.\n",
        "mlpModel.fit(X_train, y_train) # Se ajusta el modelo."
      ],
      "metadata": {
        "colab": {
          "base_uri": "https://localhost:8080/"
        },
        "id": "g08OKcqglnGB",
        "outputId": "20a8a069-ff0c-4cb7-e188-0a91b2908d9e"
      },
      "execution_count": null,
      "outputs": [
        {
          "output_type": "execute_result",
          "data": {
            "text/plain": [
              "MLPClassifier(hidden_layer_sizes=(20, 10, 10, 10), max_iter=500)"
            ]
          },
          "metadata": {},
          "execution_count": 278
        }
      ]
    },
    {
      "cell_type": "code",
      "source": [
        "y_pred_train = mlpModel.predict(X_train) # Se hacen las predicciones para datos de entrenamiento.\n",
        "y_pred_test = mlpModel.predict(X_test) # Se hacen las predicciones para datos de validación."
      ],
      "metadata": {
        "id": "fso13hZ3mRJu"
      },
      "execution_count": null,
      "outputs": []
    },
    {
      "cell_type": "code",
      "source": [
        "# Reporte general donde se observan en una tabla las métricas de puntajes precision, recall y f1 para las predicciones de todas las clases.\n",
        "print(classification_report(y_test, y_pred_test))"
      ],
      "metadata": {
        "colab": {
          "base_uri": "https://localhost:8080/"
        },
        "id": "rnFMRKfdmS00",
        "outputId": "c40e29bf-66bd-40fa-beb6-8e9b471b4b21"
      },
      "execution_count": null,
      "outputs": [
        {
          "output_type": "stream",
          "name": "stdout",
          "text": [
            "              precision    recall  f1-score   support\n",
            "\n",
            "           0       1.00      0.97      0.99        36\n",
            "           1       0.92      0.92      0.92        38\n",
            "           2       0.98      1.00      0.99        45\n",
            "           3       0.96      0.96      0.96        28\n",
            "           4       0.94      0.97      0.96        33\n",
            "           5       0.92      0.94      0.93        35\n",
            "           6       1.00      0.97      0.98        31\n",
            "           7       0.97      0.93      0.95        41\n",
            "           8       0.85      0.94      0.89        35\n",
            "           9       0.91      0.84      0.88        38\n",
            "\n",
            "    accuracy                           0.94       360\n",
            "   macro avg       0.95      0.94      0.94       360\n",
            "weighted avg       0.95      0.94      0.94       360\n",
            "\n"
          ]
        }
      ]
    },
    {
      "cell_type": "code",
      "source": [
        "# Desempeño del modelo basado en la métrica de accuracy.\n",
        "print(\"Accuracy_train\", accuracy_score(y_pred_train, y_train))\n",
        "print(\"Accuracy_test\",accuracy_score(y_pred_test, y_test))"
      ],
      "metadata": {
        "colab": {
          "base_uri": "https://localhost:8080/"
        },
        "id": "0TW31ENQmUsP",
        "outputId": "f890b690-729f-4db8-af1c-82b3dd407f3a"
      },
      "execution_count": null,
      "outputs": [
        {
          "output_type": "stream",
          "name": "stdout",
          "text": [
            "Accuracy_train 1.0\n",
            "Accuracy_test 0.9444444444444444\n"
          ]
        }
      ]
    },
    {
      "cell_type": "markdown",
      "source": [
        "### Comentarios\n",
        "\n",
        "Para el modelo de Redes Neuronales se usó el clasificador de perceptrón multicapa. En esta ocasión el modelo usado tiene 4 capas con 20, 10, 10 y 10 neuronas correspondientemente; también se usó una cantidad de épocas de 500 y un learning rate inicial de 0.001. <br />\n",
        "\n",
        "Se manejó de esta manera también para evitar el overfitting, no colocando más neuronas de las que eran necesarias."
      ],
      "metadata": {
        "id": "KGn-9yMkkSdI"
      }
    },
    {
      "cell_type": "markdown",
      "source": [
        "# Excercise 2"
      ],
      "metadata": {
        "id": "cWdxJjihMjsV"
      }
    },
    {
      "cell_type": "markdown",
      "source": [
        "## Simple example and notation"
      ],
      "metadata": {
        "id": "guswFMt4cBCW"
      }
    },
    {
      "cell_type": "markdown",
      "source": [
        "Consider a very simple neural network which is fromed by a bunch of logistic regressions, that is, each **artifical neuron** compute a weeigthed sum and the apply a sigmoid transformation. Moreover, let's assume that we only have one input feature and $N$ samples\n",
        "\n",
        "<p><img alt=\"Colaboratory logo\" height=\"300px\" width=\"5000px\" src=\"https://i.imgur.com/jqwweZb.png\" align=\"center\" hspace=\"10px\" vspace=\"0px\"></p>\n",
        "\n",
        "\n",
        "The output of the $l$-th neuron is given by\n",
        "\n",
        "\\begin{equation}\n",
        "z^{[l]} = w^{[l]}X^{[l-1]} + b^{[l]} \\\\\n",
        "X^{[l]} = \\sigma(z^{[l]})\n",
        "\\end{equation}\n",
        "\n",
        "\n",
        "The first layer (also called first hidden layer) is given by\n",
        "\n",
        "\\begin{equation}\n",
        "z^{[1]} = w^{[1]}X^{[0]} + b^{[1]} \\\\\n",
        "X^{[1]} = \\sigma(z^{[1]})\n",
        "\\end{equation}\n",
        "\n",
        "where\n",
        "\n",
        "\\begin{equation}\n",
        "X^{[0]}  = \\begin{bmatrix}\n",
        "                x^{[0](1)}\\\\\n",
        "                x^{[0](2)}\\\\\n",
        "                .\\\\\n",
        "                .\\\\\n",
        "                x^{[0](N)}\\\\\n",
        "                \\end{bmatrix}\\,\n",
        "z^{[1]}  = \\begin{bmatrix}\n",
        "                w^{[1]}x^{(1)} + b^{[1]}\\\\\n",
        "                w^{[1]}x^{(2)} + b^{[1]}\\\\\n",
        "                .\\\\\n",
        "                .\\\\\n",
        "                w^{[1]}x^{(N)} + b^{[1]}\\\\\n",
        "                \\end{bmatrix}\\,\n",
        "X^{[1]}  = \\begin{bmatrix}\n",
        "                \\sigma(w^{[1]}x^{(1)} + b^{[1]})\\\\\n",
        "                \\sigma(w^{[1]}x^{(2)} + b^{[1]})\\\\\n",
        "                .\\\\\n",
        "                .\\\\\n",
        "                \\sigma(w^{[1]}x^{(N)} + b^{[1]})\\\\\n",
        "                \\end{bmatrix}\\,  =  \n",
        "                \\begin{bmatrix}\n",
        "                x^{[1](1)}\\\\\n",
        "                x^{[1](2)}\\\\\n",
        "                .\\\\\n",
        "                .\\\\\n",
        "                x^{[1](N)}\\\\\n",
        "                \\end{bmatrix}\\,           \n",
        "\\end{equation}\n",
        "\n",
        "* $N$ denotes the number of total instances in the \n",
        "\n",
        "\n",
        "The second layer (also called second hidden layer) is given by\n",
        "\n",
        "\\begin{equation}\n",
        "z^{[2]} = w^{[2]}X^{[1]} + b^{[2]} \\\\\n",
        "X^{[2]} = \\sigma(z^{[2]})\n",
        "\\end{equation}\n",
        "\n",
        "where\n",
        "\n",
        "\\begin{equation}\n",
        "X^{[1]}  = \\begin{bmatrix}\n",
        "                x^{[1](1)}\\\\\n",
        "                x^{[1](2)}\\\\\n",
        "                .\\\\\n",
        "                .\\\\\n",
        "                x^{[1](N)}\\\\\n",
        "                \\end{bmatrix}\\,\n",
        "z^{[2]}  = \\begin{bmatrix}\n",
        "                w^{[2]}x^{[1](1)} + b^{[2]}\\\\\n",
        "                w^{[2]}x^{[1](2)} + b^{[2]}\\\\\n",
        "                .\\\\\n",
        "                .\\\\\n",
        "                w^{[2]}x^{[1](N)} + b^{[2]}\\\\\n",
        "                \\end{bmatrix}\\,\n",
        "X^{[2]}  = \\begin{bmatrix}\n",
        "                \\sigma(w^{[2]}x^{[1](1)} + b^{[2]})\\\\\n",
        "                \\sigma(w^{[2]}x^{[1](2)} + b^{[2]})\\\\\n",
        "                .\\\\\n",
        "                .\\\\\n",
        "                \\sigma(w^{[2]}x^{[1](N)} + b^{[2]})\\\\\n",
        "                \\end{bmatrix}\\,  =  \n",
        "                \\begin{bmatrix}\n",
        "                x^{[2](1)}\\\\\n",
        "                x^{[2](2)}\\\\\n",
        "                .\\\\\n",
        "                .\\\\\n",
        "                x^{[2](N)}\\\\\n",
        "                \\end{bmatrix}\\,           \n",
        "\\end{equation}"
      ],
      "metadata": {
        "id": "oXqaR53jcEr4"
      }
    },
    {
      "cell_type": "markdown",
      "source": [
        "### Task "
      ],
      "metadata": {
        "id": "bsJgGh6jmQVj"
      }
    },
    {
      "cell_type": "markdown",
      "source": [
        "Write down \n",
        "* $z^{[3]}, X^{[3]}$\n",
        "* $z^{[4]}, X^{[4]}$\n",
        "* $z^{[5]}, X^{[5]}$"
      ],
      "metadata": {
        "id": "TChquxwRmZXh"
      }
    },
    {
      "cell_type": "markdown",
      "source": [
        "# Respuesta Ejercicio 2"
      ],
      "metadata": {
        "id": "pMHdwXMFbYjx"
      }
    },
    {
      "cell_type": "markdown",
      "source": [
        "## $z^{[3]}, X^{[3]}$\n",
        "\n",
        "Los resultados para la tercera capa estarían dados por:\n",
        "\n",
        "\\begin{equation}\n",
        "z^{[3]} = w^{[3]}X^{[2]} + b^{[3]} \\\\\n",
        "X^{[3]} = \\sigma(z^{[3]})\n",
        "\\end{equation}\n",
        "\n",
        "Lo cual se puede apreciar de manera más clara en la forma matricial.\n",
        "\n",
        "\\begin{equation}\n",
        "X^{[2]}  = \\begin{bmatrix}\n",
        "                x^{[2](1)}\\\\\n",
        "                x^{[2](2)}\\\\\n",
        "                .\\\\\n",
        "                .\\\\\n",
        "                x^{[2](N)}\\\\\n",
        "                \\end{bmatrix}\\,\n",
        "z^{[3]}  = \\begin{bmatrix}\n",
        "                w^{[3]}x^{[2](1)} + b^{[3]}\\\\\n",
        "                w^{[3]}x^{[2](2)} + b^{[3]}\\\\\n",
        "                .\\\\\n",
        "                .\\\\\n",
        "                w^{[3]}x^{[2](N)} + b^{[3]}\\\\\n",
        "                \\end{bmatrix}\\,\n",
        "X^{[3]}  = \\begin{bmatrix}\n",
        "                \\sigma(w^{[3]}x^{[2](1)} + b^{[3]})\\\\\n",
        "                \\sigma(w^{[3]}x^{[2](2)} + b^{[3]})\\\\\n",
        "                .\\\\\n",
        "                .\\\\\n",
        "                \\sigma(w^{[3]}x^{[2](N)} + b^{[3]})\\\\\n",
        "                \\end{bmatrix}\\,  =  \n",
        "                \\begin{bmatrix}\n",
        "                x^{[3](1)}\\\\\n",
        "                x^{[3](2)}\\\\\n",
        "                .\\\\\n",
        "                .\\\\\n",
        "                x^{[3](N)}\\\\\n",
        "                \\end{bmatrix}\\,           \n",
        "\\end{equation}\n",
        "\n",
        "Donde $X^{[2]}$ hace referencia a los datos de salida de la capa anterior, sobre los cuales se aplicará una nueva transformación en la capa actual (la número 3) usando el peso correspondiente, es decir, $w^{[3]}$ y el intercepto $b^{[3]}$.<br />\n",
        "\n",
        "Finalmente, los valores de salida de esta capa están dados por $X^{[3]}$, los cuales corresponden a aplicar la función $\\sigma$ sobre el resultado de la suma pesada $z^{[3]}$."
      ],
      "metadata": {
        "id": "OXusnStUbdWO"
      }
    },
    {
      "cell_type": "markdown",
      "source": [
        "## $z^{[4]}, X^{[4]}$\n",
        "\n",
        "Los resultados para la cuarta capa estarían dados por:\n",
        "\n",
        "\\begin{equation}\n",
        "z^{[4]} = w^{[4]}X^{[3]} + b^{[4]} \\\\\n",
        "X^{[4]} = \\sigma(z^{[4]})\n",
        "\\end{equation}\n",
        "\n",
        "Lo cual se puede apreciar de manera más clara en la forma matricial.\n",
        "\n",
        "\\begin{equation}\n",
        "X^{[3]}  = \\begin{bmatrix}\n",
        "                x^{[3](1)}\\\\\n",
        "                x^{[3](2)}\\\\\n",
        "                .\\\\\n",
        "                .\\\\\n",
        "                x^{[3](N)}\\\\\n",
        "                \\end{bmatrix}\\,\n",
        "z^{[3]}  = \\begin{bmatrix}\n",
        "                w^{[4]}x^{[3](1)} + b^{[4]}\\\\\n",
        "                w^{[4]}x^{[3](2)} + b^{[4]}\\\\\n",
        "                .\\\\\n",
        "                .\\\\\n",
        "                w^{[4]}x^{[3](N)} + b^{[4]}\\\\\n",
        "                \\end{bmatrix}\\,\n",
        "X^{[4]}  = \\begin{bmatrix}\n",
        "                \\sigma(w^{[4]}x^{[3](1)} + b^{[4]})\\\\\n",
        "                \\sigma(w^{[4]}x^{[3](2)} + b^{[4]})\\\\\n",
        "                .\\\\\n",
        "                .\\\\\n",
        "                \\sigma(w^{[4]}x^{[3](N)} + b^{[4]})\\\\\n",
        "                \\end{bmatrix}\\,  =  \n",
        "                \\begin{bmatrix}\n",
        "                x^{[4](1)}\\\\\n",
        "                x^{[4](2)}\\\\\n",
        "                .\\\\\n",
        "                .\\\\\n",
        "                x^{[4](N)}\\\\\n",
        "                \\end{bmatrix}\\,           \n",
        "\\end{equation}\n",
        "\n",
        "Donde $X^{[3]}$ hace referencia a los datos de salida de la capa anterior, sobre los cuales se aplicará una nueva transformación en la capa actual (la número 4) usando el peso correspondiente, es decir, $w^{[4]}$ y el intercepto $b^{[4]}$.<br />\n",
        "\n",
        "Finalmente, los valores de salida de esta capa están dados por $X^{[4]}$, los cuales corresponden a aplicar la función $\\sigma$ sobre el resultado de la suma pesada $z^{[4]}$."
      ],
      "metadata": {
        "id": "0tnHRxIibnrj"
      }
    },
    {
      "cell_type": "markdown",
      "source": [
        "## $z^{[5]}, X^{[5]}$\n",
        "\n",
        "Los resultados para la quinta capa estarían dados por:\n",
        "\n",
        "\\begin{equation}\n",
        "z^{[5]} = w^{[5]}X^{[4]} + b^{[5]} \\\\\n",
        "X^{[5]} = \\sigma(z^{[5]})\n",
        "\\end{equation}\n",
        "\n",
        "Lo cual se puede apreciar de manera más clara en la forma matricial.\n",
        "\n",
        "\\begin{equation}\n",
        "X^{[4]}  = \\begin{bmatrix}\n",
        "                x^{[4](1)}\\\\\n",
        "                x^{[4](2)}\\\\\n",
        "                .\\\\\n",
        "                .\\\\\n",
        "                x^{[4](N)}\\\\\n",
        "                \\end{bmatrix}\\,\n",
        "z^{[5]}  = \\begin{bmatrix}\n",
        "                w^{[5]}x^{[4](1)} + b^{[5]}\\\\\n",
        "                w^{[5]}x^{[4](2)} + b^{[5]}\\\\\n",
        "                .\\\\\n",
        "                .\\\\\n",
        "                w^{[5]}x^{[4](N)} + b^{[5]}\\\\\n",
        "                \\end{bmatrix}\\,\n",
        "X^{[5]}  = \\begin{bmatrix}\n",
        "                \\sigma(w^{[5]}x^{[4](1)} + b^{[5]})\\\\\n",
        "                \\sigma(w^{[5]}x^{[4](2)} + b^{[5]})\\\\\n",
        "                .\\\\\n",
        "                .\\\\\n",
        "                \\sigma(w^{[5]}x^{[4](N)} + b^{[5]})\\\\\n",
        "                \\end{bmatrix}\\,  =  \n",
        "                \\begin{bmatrix}\n",
        "                x^{[5](1)}\\\\\n",
        "                x^{[5](2)}\\\\\n",
        "                .\\\\\n",
        "                .\\\\\n",
        "                x^{[5](N)}\\\\\n",
        "                \\end{bmatrix}\\,           \n",
        "\\end{equation}\n",
        "\n",
        "Donde $X^{[4]}$ hace referencia a los datos de salida de la capa anterior, sobre los cuales se aplicará una nueva transformación en la capa actual (la número 5) usando el peso correspondiente, es decir, $w^{[5]}$ y el intercepto $b^{[5]}$.<br />\n",
        "\n",
        "Finalmente, los valores de salida de esta capa están dados por $X^{[5]}$, los cuales corresponden a aplicar la función $\\sigma$ sobre el resultado de la suma pesada $z^{[5]}$."
      ],
      "metadata": {
        "id": "HfrIQ3JXbtEh"
      }
    },
    {
      "cell_type": "markdown",
      "source": [
        "# Excersise 3"
      ],
      "metadata": {
        "id": "QoqgP3mjM1xF"
      }
    },
    {
      "cell_type": "markdown",
      "metadata": {
        "id": "B2iXqaBbjdid"
      },
      "source": [
        "## XOR Problem\n"
      ]
    },
    {
      "cell_type": "markdown",
      "metadata": {
        "id": "tcD2cN7gjgEs"
      },
      "source": [
        "In their 1969 monograph Perceptrons, Marvin Minsky and Seymour Papert highligh‐\n",
        "ted a number of serious weaknesses of Perceptrons—in particular, the fact that they are incapable of solving some trivial problems (e.g., the Exclusive OR (XOR) classification problem. This is true of any other linear classi‐\n",
        "fication model (such as Logistic Regression classifiers), but researchers had expected much more from Perceptrons, and some were so disappointed that they dropped neural networks altogether in favor of higher-level problems such as logic, problem solving, and search. \n"
      ]
    },
    {
      "cell_type": "code",
      "metadata": {
        "colab": {
          "base_uri": "https://localhost:8080/"
        },
        "id": "KNxKNcP9X8dV",
        "outputId": "cb108c3a-8406-445f-987b-4bbf44c77f9a"
      },
      "source": [
        "#Grafico del problema XOR\n",
        "import numpy as np\n",
        "import matplotlib.pyplot as plt\n",
        "\n",
        "X = np.array([[0, 0], [1, 1], [0, 1], [1, 0]])\n",
        "y = np.array([0, 0, 1, 1])\n",
        "plt.figure(figsize=(8,7))\n",
        "plt.scatter(X[:2,0], X[:2,1], marker=\"s\", s = 600)\n",
        "plt.scatter(X[2:,0], X[2:,1], marker=\"^\", s = 600)"
      ],
      "execution_count": null,
      "outputs": [
        {
          "output_type": "execute_result",
          "data": {
            "text/plain": [
              "<matplotlib.collections.PathCollection at 0x7f512937a4d0>"
            ]
          },
          "metadata": {},
          "execution_count": 236
        },
        {
          "output_type": "display_data",
          "data": {
            "text/plain": [
              "<Figure size 576x504 with 1 Axes>"
            ],
            "image/png": "[encoded data removed]"
          },
          "metadata": {
            "needs_background": "light"
          }
        }
      ]
    },
    {
      "cell_type": "markdown",
      "metadata": {
        "id": "kkKBzwZVoOtR"
      },
      "source": [
        "It turns out that some of the limitations of Perceptrons can be eliminated by stacking\n",
        "multiple Perceptrons. The resulting ANN is called a Multilayer Perceptron (MLP)."
      ]
    },
    {
      "cell_type": "markdown",
      "metadata": {
        "id": "SaC1gNeKq7GC"
      },
      "source": [
        "<p><img alt=\"Colaboratory logo\" height=\"350px\" src=\"https://i.imgur.com/b69Plw4.png\" align=\"center\" hspace=\"10px\" vspace=\"0px\"></p>"
      ]
    },
    {
      "cell_type": "markdown",
      "source": [
        "In the case of one hidden layer with two neurons,and two inpunt feature, we can express the neural network in matrix form as\n",
        "\n",
        "\n",
        "<p><img alt=\"Colaboratory logo\" height=\"350px\" width=\"5000px\" src=\"https://i.imgur.com/MrfpJis.png\" align=\"center\" hspace=\"10px\" vspace=\"0px\"></p>\n",
        "\n",
        "\n",
        "\\begin{equation}\n",
        "\\textbf{z}^{[1]} = X^{[0]}\\textbf{W}^{[1]} + B^{[1]} \\\\\n",
        "X^{[1]} = sign(\\textbf{z}^{[1]})\n",
        "\\end{equation}\n",
        "\n",
        "where\n",
        "\n",
        "\\begin{equation}\n",
        "X^{[0]}  = \\begin{bmatrix}\n",
        "                x^{(1)[0]}_1 \\ x^{(1)[0]}_2\\\\\n",
        "                x^{(2)[0]}_1 \\ x^{(2)[0]}_2\\\\\n",
        "                .\\\\\n",
        "                .\\\\\n",
        "                x^{(N)[0]}_1 \\ x^{(N)[0]}_2\\\\\n",
        "                \\end{bmatrix}\\,,\n",
        "\\textbf{W}^{[1]}  = \\begin{bmatrix}\n",
        "                w_{11}^{[1]} \\ w_{12}^{[1]} \\\\\n",
        "                w_{21}^{[1]} \\ w_{22}^{[1]}\n",
        "                \\end{bmatrix}\\,, \n",
        "\\textbf{B}^{[1]}  = \\begin{bmatrix}\n",
        "                b_{1}^{[1]} \\\\\n",
        "                b_{2}^{[1]}\n",
        "                \\end{bmatrix}\\,        \n",
        "\\end{equation}"
      ],
      "metadata": {
        "id": "AFAcQsuuLCHZ"
      }
    },
    {
      "cell_type": "markdown",
      "source": [
        "### Task"
      ],
      "metadata": {
        "id": "DfaAUHo5g437"
      }
    },
    {
      "cell_type": "markdown",
      "source": [
        "Consider the *XoR* problem presented above, and assume that\n",
        "\n",
        "\\begin{equation}\n",
        "X^{[0]}  = \\begin{bmatrix}\n",
        "                0\\ 0\\\\\n",
        "                0\\ 1\\\\\n",
        "                1\\ 0\\\\\n",
        "                1\\ 1\\\\\n",
        "                \\end{bmatrix}\\,, \n",
        "y = \\begin{bmatrix}\n",
        "                0 \\\\\n",
        "                1 \\\\\n",
        "                1 \\\\\n",
        "                0 \\\\\n",
        "                \\end{bmatrix}\\,   \n",
        "\\end{equation}\n",
        "\n",
        "1. Using the neural network show above to compute $\\hat y$ and show that  \n",
        "    \\begin{equation}\n",
        "    \\hat y = y = \\begin{bmatrix}\n",
        "                    0 \\\\\n",
        "                    1 \\\\\n",
        "                    1 \\\\\n",
        "                    0 \\\\\n",
        "                    \\end{bmatrix}\\,   \n",
        "    \\end{equation}\n",
        "    \n",
        "    If you want you can use numpy to show this result."
      ],
      "metadata": {
        "id": "AFtJRM1AhDPk"
      }
    },
    {
      "cell_type": "markdown",
      "source": [
        "# Cálculo Manual"
      ],
      "metadata": {
        "id": "TOP_JGBvltDw"
      }
    },
    {
      "cell_type": "markdown",
      "source": [
        "Para este ejercicio seguiré una estructura más apegada a las indicaciones que brinda el gráfico de la red neuronal sobre el cálculo de las transformaciones usando los pesos y los interceptos. En primer lugar tenemos los siguientes datos:\n",
        "\n",
        "\\begin{equation}\n",
        "X_{1}^{[0]}  = \\begin{bmatrix}\n",
        "                0\\\\\n",
        "                0\\\\\n",
        "                1\\\\\n",
        "                1\\\\\n",
        "                \\end{bmatrix}\\,,\n",
        "X_{2}^{[0]} = \\begin{bmatrix}\n",
        "                0\\\\\n",
        "                1\\\\\n",
        "                0\\\\\n",
        "                1\\\\\n",
        "              \\end{bmatrix}\\,,\n",
        "\\textbf{W}^{[1]}  = \\begin{bmatrix}\n",
        "                1 \\ 1 \\\\\n",
        "                1 \\ 1 \\\\\n",
        "                \\end{bmatrix}\\,, \n",
        "\\textbf{B}^{[1]}  = \\begin{bmatrix}\n",
        "                -1.5 \\\\\n",
        "                -0.5\n",
        "                \\end{bmatrix}\\,,\n",
        "\\textbf{W}^{[2]}  = \\begin{bmatrix}\n",
        "                -1 \\\\\n",
        "                1 \\\\\n",
        "                \\end{bmatrix}\\,, \n",
        "\\textbf{B}^{[2]}  = \\begin{bmatrix}\n",
        "                -0.5\n",
        "                \\end{bmatrix}\\,    \n",
        "\\end{equation}\n"
      ],
      "metadata": {
        "id": "3OVx-twujnyk"
      }
    },
    {
      "cell_type": "markdown",
      "source": [
        "Se calcula el resultado para la transformación en la primera neurona de la primera capa:\n",
        "\n",
        "\\begin{equation}\n",
        "X_{1}^{[1]} = f(w_{1,1}^{[1]}X_{1}^{[0]} + w_{2,1}^{[1]}X_{2}^{[0]} + b_{1}^{[1]}) \\\\\n",
        "X_{1}^{[1]} = f(1 \\begin{bmatrix}\n",
        "                      0 \\\\\n",
        "                      0 \\\\\n",
        "                      1 \\\\\n",
        "                      1 \\\\\n",
        "                  \\end{bmatrix} +\n",
        "                  1 \\begin{bmatrix}\n",
        "                      0 \\\\\n",
        "                      1 \\\\\n",
        "                      0 \\\\\n",
        "                      1 \\\\\n",
        "                  \\end{bmatrix}\n",
        " -1.5) \\\\\n",
        "X_{1}^{[1]} = f(\\begin{bmatrix}\n",
        "                      -1.5 \\\\\n",
        "                      -0.5 \\\\\n",
        "                      -0.5 \\\\\n",
        "                      0.5 \\\\\n",
        "                  \\end{bmatrix})\\\\\n",
        "X_{1}^{[1]} = \\begin{bmatrix}\n",
        "                      0 \\\\\n",
        "                      0 \\\\\n",
        "                      0 \\\\\n",
        "                      1 \\\\\n",
        "                  \\end{bmatrix}\n",
        "\\end{equation}"
      ],
      "metadata": {
        "id": "722yzG2Wm-SB"
      }
    },
    {
      "cell_type": "markdown",
      "source": [
        "Se calcula el resultado para la transformación en la segunda neurona de la primera capa:\n",
        "\n",
        "\\begin{equation}\n",
        "X_{2}^{[1]} = f(w_{1,2}^{[1]}X_{1}^{[0]} + w_{2,2}^{[1]}X_{2}^{[0]} + b_{2}^{[1]}) \\\\\n",
        "X_{2}^{[1]} = f(1 \\begin{bmatrix}\n",
        "                      0 \\\\\n",
        "                      0 \\\\\n",
        "                      1 \\\\\n",
        "                      1 \\\\\n",
        "                  \\end{bmatrix} +\n",
        "                  1 \\begin{bmatrix}\n",
        "                      0 \\\\\n",
        "                      1 \\\\\n",
        "                      0 \\\\\n",
        "                      1 \\\\\n",
        "                  \\end{bmatrix}\n",
        " -0.5) \\\\\n",
        "X_{2}^{[1]} = f(\\begin{bmatrix}\n",
        "                      -0.5 \\\\\n",
        "                      0.5 \\\\\n",
        "                      0.5 \\\\\n",
        "                      1.5 \\\\\n",
        "                  \\end{bmatrix})\\\\\n",
        "X_{2}^{[1]} = \\begin{bmatrix}\n",
        "                      0 \\\\\n",
        "                      1 \\\\\n",
        "                      1 \\\\\n",
        "                      1 \\\\\n",
        "                  \\end{bmatrix}\n",
        "\\end{equation}"
      ],
      "metadata": {
        "id": "fxPfMS1BqcQy"
      }
    },
    {
      "cell_type": "markdown",
      "source": [
        "Se calcula el resutado para la transformación en la neurona de la segunda y última capa:\n",
        "\n",
        "\\begin{equation}\n",
        "\\hat y = X_{1}^{[2]} = f(w_{1,1}^{[2]}X_{1}^{[1]} + w_{2,1}^{[2]}X_{2}^{[1]} + b_{1}^{[2]}) \\\\\n",
        "\\hat y = X_{1}^{[2]} = f(-1 \\begin{bmatrix}\n",
        "                      0 \\\\\n",
        "                      0 \\\\\n",
        "                      0 \\\\\n",
        "                      1 \\\\\n",
        "                  \\end{bmatrix} +\n",
        "                  1 \\begin{bmatrix}\n",
        "                      0 \\\\\n",
        "                      1 \\\\\n",
        "                      1 \\\\\n",
        "                      1 \\\\\n",
        "                  \\end{bmatrix}\n",
        " -0.5) \\\\\n",
        "\\hat y = X_{1}^{[2]} = f(\\begin{bmatrix}\n",
        "                      -0.5 \\\\\n",
        "                      0.5 \\\\\n",
        "                      0.5 \\\\\n",
        "                      -0.5 \\\\\n",
        "                  \\end{bmatrix})\\\\\n",
        "\\hat y = X_{1}^{[2]} = \\begin{bmatrix}\n",
        "                      0 \\\\\n",
        "                      1 \\\\\n",
        "                      1 \\\\\n",
        "                      0 \\\\\n",
        "                  \\end{bmatrix}\n",
        "\\end{equation}"
      ],
      "metadata": {
        "id": "yj3KEWw3rhWH"
      }
    },
    {
      "cell_type": "markdown",
      "source": [
        "##Conclusiones\n",
        "Como se puede apreciar, haciendo el cálculo de manera manual y siguiendo las operaciones que se observan en el gráfico de la red neuronal al pie de la letra, el resultado es el mencionado en el enunciado, es decir, el esperado."
      ],
      "metadata": {
        "id": "skIwQ81suBcH"
      }
    },
    {
      "cell_type": "markdown",
      "source": [
        "#Verificación Usando una Función"
      ],
      "metadata": {
        "id": "Kg8dnvDzlvEL"
      }
    },
    {
      "cell_type": "code",
      "source": [
        "X = np.array([[0, 0], [0, 1], [1, 0], [1, 1]]) # Se toma el X como pide el enunciado."
      ],
      "metadata": {
        "id": "ypdINmTZnObR"
      },
      "execution_count": null,
      "outputs": []
    },
    {
      "cell_type": "code",
      "source": [
        "\"\"\"\n",
        "Entradas: La matriz r que resulta de realizar la suma pesada en las neuronas artificiales.\n",
        "Salidas: La matriz r con nuevos valores que son el resultado de la aplicación de la función sign vista en clase.\n",
        "Objetivo: Se recorre la matriz y se aplica la función sign. Si el valor en la matriz es mayor a 0, entonces su nuevo valor será uno,\n",
        "          de lo contrario, si es menor o igual a cero, el nuevo valor en la matriz será cero.\n",
        "\"\"\"\n",
        "def function(r):\n",
        "  rows = r.shape[0] # Necesito conocer la cantidad de filas de la matriz.\n",
        "  columns = r.shape[1] # Necesito concer la cantidad de columnas de la matriz.\n",
        "  # Ciclo donde recorro los valores de la matriz para revisar si son mayores o menores-iguales a cero.\n",
        "  for row in range(rows):\n",
        "    for col in range(columns):\n",
        "      if(r[row][col] > 0): # Si el valor es mayor a cero, el nuevo valor en la matriz es 1.\n",
        "        r[row][col] = 1\n",
        "      elif(r[row][col]<= 0): # Si el valor menor-igual a cero, el nuevo valor en la matriz es 0.\n",
        "        r[row][col] = 0\n",
        "\n",
        "  return r\n",
        "\n",
        "\"\"\"\n",
        "Entradas: recibe la matriz X de datos, donde se encuentran las características del problema del XOR.s\n",
        "Salidas: Una matriz yPred con los datos que resultan de pasar X por la red neuronal diseñada para solucionar el problema del XOR. Se toman\n",
        "         como las predicciones que hace el modelo y deben coincidir con las que se nos pasan en el enunciado.\n",
        "Objetivo: El objetivo es llevar a cabo las operaciones que normalmente se realizan sobre la matriz X en la red neuronal diseñada, teniendo\n",
        "          en cuenta las matrices de pesos W1, W2 y los interceptos B1 y B2, para llegar a una predicción. Estas matrices mencionadas fueron\n",
        "          proporcionadas por el ejercicio.\n",
        "\"\"\"\n",
        "def verify_XOR(X):\n",
        "  #Se construyen las matrices que servirán para aplicar las transformaciones a X en la red neuronal.\n",
        "  W1 = np.ones((2, 2))\n",
        "  B1 = np.array([[-1.5], [-0.5]])\n",
        "  W2 = np.array([[-1], [1]])\n",
        "  B2 = -0.5\n",
        "\n",
        "  X_layer1 = function(np.dot(X, W1) + B1.reshape(1, 2)) # Se calcula el resultado de las transformaciones de la primera capa.\n",
        "  yPred = function(np.dot(X_layer1, W2) + B2) # Se calcula el resultado de las transformaciones de la segunda y última capa. Se considera el resultado o predicción.\n",
        "\n",
        "  return yPred"
      ],
      "metadata": {
        "id": "eoVy8TxTo1Pw"
      },
      "execution_count": null,
      "outputs": []
    },
    {
      "cell_type": "code",
      "source": [
        "verify_XOR(X)"
      ],
      "metadata": {
        "colab": {
          "base_uri": "https://localhost:8080/"
        },
        "id": "ADLEqnl_j2zf",
        "outputId": "03300a48-7a03-4b21-8838-943bd4ea159c"
      },
      "execution_count": null,
      "outputs": [
        {
          "output_type": "execute_result",
          "data": {
            "text/plain": [
              "array([[0.],\n",
              "       [1.],\n",
              "       [1.],\n",
              "       [0.]])"
            ]
          },
          "metadata": {},
          "execution_count": 239
        }
      ]
    },
    {
      "cell_type": "markdown",
      "source": [
        "## Conclusiones"
      ],
      "metadata": {
        "id": "9omAOfOzg6zX"
      }
    },
    {
      "cell_type": "markdown",
      "source": [
        "Usando algunos métodos de numpy para el manejo de matrices y sus respectivas operaciones, además de la aplicación de la estructura de las matrices que nos provee el ejercicio, se llegó a que el resultado de pasar los datos de las características del problema XOR por la red neuronal diseñada con los pesos e interceptos indicados en el enunciado es:\n",
        "\n",
        "\\begin{equation}\n",
        "    yPred = \\begin{bmatrix}\n",
        "                    0 \\\\\n",
        "                    1 \\\\\n",
        "                    1 \\\\\n",
        "                    0 \\\\\n",
        "                    \\end{bmatrix}\\,   \n",
        "    \\end{equation}\n",
        "\n",
        "Esto coincide con el resultado esperado según el enunciado."
      ],
      "metadata": {
        "id": "Uy9g_xCUg8kt"
      }
    }
  ]
}